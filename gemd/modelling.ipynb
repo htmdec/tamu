{
 "cells": [
  {
   "cell_type": "code",
   "execution_count": 88,
   "metadata": {},
   "outputs": [
    {
     "name": "stdout",
     "output_type": "stream",
     "text": [
      "The autoreload extension is already loaded. To reload it, use:\n",
      "  %reload_ext autoreload\n"
     ]
    }
   ],
   "source": [
    "# %matplotlib inline\n",
    "%load_ext autoreload\n",
    "%autoreload 2\n",
    "import sys\n",
    "gemd_tools_path = \"/srv/hemi01-j01/gemd_tools\"\n",
    "sys.path.append(gemd_tools_path)\n",
    "from workflow.Folder import Folder\n",
    "from workflow.TAMUWorkflow import TAMUWorkflow\n",
    "from workflow.Workflow import Workflow\n",
    "from utilities.tools import  plot_graph\n",
    "import os\n",
    "from pathlib import Path"
   ]
  },
  {
   "cell_type": "code",
   "execution_count": 89,
   "metadata": {},
   "outputs": [],
   "source": [
    "iteration_count = 2\n",
    "iteration = \"AAB\"\n",
    "source_folder = \"../data/\"\n",
    "output_folder = \"data/{}\".format(iteration)\n",
    "sample_data_folder = \"../Sample Data/Iteration{}_{}\".format(iteration_count, iteration)\n",
    "path = os.path.join(source_folder, iteration)\n",
    "w_aab = TAMUWorkflow(path, output_folder=output_folder, iteration=iteration, sample_data_folder=sample_data_folder)\n",
    "w_aab.testing_mode=True\n",
    "# iteration_count = 3\n",
    "# iteration = \"AAC\"\n",
    "# source_folder = \"../data/\"\n",
    "# output_folder = \"data/{}\".format(iteration)\n",
    "# sample_data_folder = \"../Sample Data/Iteration{}_{}\".format(iteration_count, iteration)\n",
    "# path = os.path.join(source_folder, iteration)\n",
    "# w_aac = TAMUWorkflow(path, output_folder=output_folder, iteration=iteration, sample_data_folder=sample_data_folder)"
   ]
  },
  {
   "cell_type": "code",
   "execution_count": 90,
   "metadata": {},
   "outputs": [
    {
     "name": "stdout",
     "output_type": "stream",
     "text": [
      "(('start_date', '2022-11-03'), ('finish_date', '2022-11-05'), ('time_spent', '3'), ('Full Ingot::7', '175'), ('Full Ingot::6', '145'), ('Full Ingot::5', '145'), ('Full Ingot::4', '145'), ('Full Ingot::3', '145'), ('Full Ingot::2', '145'), ('Full Ingot::1', '110'), ('3 Part Sections::3', '110'), ('3 Part Sections::2', '90'), ('3 Part Sections::1', '90'))\n",
      "{\n",
      "   \"cartaMetadata\": {\n",
      "      \"schemaUsed\": \"vam-synthesis-details-v1.json\",\n",
      "      \"updated\": \"2023-01-19 17:43:38.774745\"\n",
      "   },\n",
      "   \"data\": {\n",
      "      \"Arc Melting\": {\n",
      "         \" \": {\n",
      "            \"Completed By\": \"Daniel\",\n",
      "            \"Finish Date\": \"2022-11-05\",\n",
      "            \"Start Date\": \"2022-11-03\",\n",
      "            \"Time Spent\": 3\n",
      "         },\n",
      "         \"  \": {\n",
      "            \"Argon Pressure\": \"850-900\",\n",
      "            \"Diffusion\": \"Before Each Melt\",\n",
      "            \"Ingot Location\": 3,\n",
      "            \"Initial Purging Times\": 3,\n",
      "            \"Vacuum Before Melt\": 5e-05\n",
      "         },\n",
      "         \"   \": {\n",
      "            \"Final Ingot Mass\": 29.983,\n",
      "            \"Mass Loss\": 0.03\n",
      "         },\n",
      "         \"3 Part Sections\": {\n",
      "            \"1\": 90,\n",
      "            \"2\": 90,\n",
      "            \"3\": 110\n",
      "         },\n",
      "         \"Full Ingot\": {\n",
      "            \"1\": 110,\n",
      "            \"2\": 145,\n",
      "            \"3\": 145,\n",
      "            \"4\": 145,\n",
      "            \"5\": 145,\n",
      "            \"6\": 145,\n",
      "            \"7\": 175\n",
      "         }\n",
      "      },\n",
      "      \"Material Preparation\": {\n",
      "         \"\": {\n",
      "            \"Completed By\": \"Wenle & Daniel\",\n",
      "            \"Finish Date\": \"2022-11-04\",\n",
      "            \"Start Date\": \"2022-11-03\",\n",
      "            \"Time Spent\": 6\n",
      "         },\n",
      "         \"Target Mass\": {\n",
      "            \"Al\": 0,\n",
      "            \"Co\": 15.5248,\n",
      "            \"Cr\": 2.7395,\n",
      "            \"Fe\": 4.4134,\n",
      "            \"Ni\": 4.6385,\n",
      "            \"Total\": \"30.000100000000003\",\n",
      "            \"V\": 2.6839\n",
      "         },\n",
      "         \"Weighed Mass\": {\n",
      "            \"Al\": 0,\n",
      "            \"Co\": 15.5252,\n",
      "            \"Cr\": 2.7365,\n",
      "            \"Fe\": 4.418,\n",
      "            \"Ni\": 4.6323,\n",
      "            \"Total\": \"29.992499999999996\",\n",
      "            \"V\": 2.6805\n",
      "         }\n",
      "      },\n",
      "      \"Sample ID\": {\n",
      "         \"Prod. Batch\": \"A\",\n",
      "         \"Production Location & Physical Sample Number\": \"T01\",\n",
      "         \"Unique Code\": \"AAB01\",\n",
      "         \"VAM or DED\": \"VAM\",\n",
      "         \"Year & Month\": \"2211\"\n",
      "      }\n",
      "   }\n",
      "}\n",
      "None\n",
      "{\n",
      "   \"cartaMetadata\": {\n",
      "      \"schemaUsed\": \"vam-processing-details-v1.json\",\n",
      "      \"updated\": \"2023-01-19 20:57:47.876379\"\n",
      "   },\n",
      "   \"data\": {\n",
      "      \"Forging\": {\n",
      "         \"Ingot Condition\": {\n",
      "            \"Soak Time\": 30,\n",
      "            \"Temperature\": 1150\n",
      "         },\n",
      "         \"Ingot Dimensions After\": {\n",
      "            \"Length\": 42.9,\n",
      "            \"Thickness\": 4.7,\n",
      "            \"Thickness Reduction\": -58.6,\n",
      "            \"Width\": 24.1\n",
      "         },\n",
      "         \"Ingot Dimensions Before\": {\n",
      "            \"Length\": 36.7,\n",
      "            \"Thickness\": 11.3,\n",
      "            \"Width\": 14.4\n",
      "         },\n",
      "         \"Maximum Load\": [\n",
      "            {\n",
      "               \"Maximum Load Step\": 17.26\n",
      "            },\n",
      "            {\n",
      "               \"Maximum Load Step\": 26.05\n",
      "            },\n",
      "            {\n",
      "               \"Maximum Load Step\": 76.89\n",
      "            }\n",
      "         ],\n",
      "         \"Press Temperature\": 390,\n",
      "         \"Process Overview\": {\n",
      "            \"Completed By\": \"Robert & Michael\",\n",
      "            \"Finish Date\": \"2022-11-19\",\n",
      "            \"Start Date\": \"2022-11-08\",\n",
      "            \"Time Spent\": 7\n",
      "         }\n",
      "      },\n",
      "      \"Homogenization\": {\n",
      "         \"Process Overview\": {\n",
      "            \"Completed By\": \"Michael\",\n",
      "            \"Finish Date\": \"2022-11-09\",\n",
      "            \"Start Date\": \"2022-11-05\",\n",
      "            \"Time Spent\": 6\n",
      "         },\n",
      "         \"Purging Sequence Pressure\": {\n",
      "            \"1\": 4.4e-05,\n",
      "            \"2\": 3.7e-05,\n",
      "            \"3\": 1.8e-05,\n",
      "            \"4\": \"\"\n",
      "         },\n",
      "         \"Thermal Conditions\": {\n",
      "            \"Atmosphere\": \"Ar\",\n",
      "            \"Cooling Rate\": \"FC\",\n",
      "            \"Duration\": 24,\n",
      "            \"Pressure\": 5,\n",
      "            \"Temperature\": 1150\n",
      "         }\n",
      "      },\n",
      "      \"Sample ID\": {\n",
      "         \"Prod. Batch\": \"A\",\n",
      "         \"Production Location & Physical Sample Number\": \"T01\",\n",
      "         \"Unique Code\": \"AAB01\",\n",
      "         \"VAM or DED\": \"VAM\",\n",
      "         \"Year & Month\": \"2211\"\n",
      "      }\n",
      "   }\n",
      "}\n",
      "None\n",
      "{'1': 4.4e-05, '2': 3.7e-05, '3': 1.8e-05, '4': ''}\n"
     ]
    },
    {
     "ename": "TypeError",
     "evalue": "cannot unpack non-iterable float object",
     "output_type": "error",
     "traceback": [
      "\u001b[0;31m---------------------------------------------------------------------------\u001b[0m",
      "\u001b[0;31mTypeError\u001b[0m                                 Traceback (most recent call last)",
      "Cell \u001b[0;32mIn[90], line 1\u001b[0m\n\u001b[0;32m----> 1\u001b[0m w_aab\u001b[39m.\u001b[39;49mbuild_model()\n\u001b[1;32m      2\u001b[0m \u001b[39m# w_aac.build_model()\u001b[39;00m\n\u001b[1;32m      3\u001b[0m \u001b[39m# w_aac.link_prior(w_aab)\u001b[39;00m\n",
      "File \u001b[0;32m/srv/hemi01-j01/gemd_tools/workflow/TAMUWorkflow.py:180\u001b[0m, in \u001b[0;36mTAMUWorkflow.build_model\u001b[0;34m(self)\u001b[0m\n\u001b[1;32m    178\u001b[0m     \u001b[39mself\u001b[39m\u001b[39m.\u001b[39msetup_subfolder(composition_id, batch, fabrication_method)\n\u001b[1;32m    179\u001b[0m     \u001b[39mif\u001b[39;00m onlyfiles:\n\u001b[0;32m--> 180\u001b[0m         \u001b[39mself\u001b[39;49m\u001b[39m.\u001b[39;49mprocess(\n\u001b[1;32m    181\u001b[0m             item_path,\n\u001b[1;32m    182\u001b[0m             composition_id,\n\u001b[1;32m    183\u001b[0m             batch,\n\u001b[1;32m    184\u001b[0m             fabrication_method,\n\u001b[1;32m    185\u001b[0m             inferred_alloy_compositions,\n\u001b[1;32m    186\u001b[0m             infer_compositions_block,\n\u001b[1;32m    187\u001b[0m         )\n\u001b[1;32m    188\u001b[0m \u001b[39m# AAA/VAM/B/AAA01/T01/T02 or ( AAA/DED/A/AAA01-AAA08/AAA01/C01/EDS VS AAA/DED/B/AAA01-AAA08/AAA01/C01/G01 )\u001b[39;00m\n\u001b[1;32m    189\u001b[0m \u001b[39mif\u001b[39;00m (\n\u001b[1;32m    190\u001b[0m     (item\u001b[39m.\u001b[39mdepth \u001b[39m>\u001b[39m\u001b[39m=\u001b[39m \u001b[39m5\u001b[39m \u001b[39mand\u001b[39;00m \u001b[39mnot\u001b[39;00m is_ded) \u001b[39mor\u001b[39;00m (item\u001b[39m.\u001b[39mdepth \u001b[39m>\u001b[39m\u001b[39m=\u001b[39m \u001b[39m6\u001b[39m \u001b[39mand\u001b[39;00m is_ded)\n\u001b[1;32m    191\u001b[0m ) \u001b[39mand\u001b[39;00m (onlyfiles):\n",
      "File \u001b[0;32m/srv/hemi01-j01/gemd_tools/workflow/TAMUWorkflow.py:524\u001b[0m, in \u001b[0;36mTAMUWorkflow.process\u001b[0;34m(self, item_path, composition_id, batch, fabrication_method, inferred_alloy_compositions, prior_block)\u001b[0m\n\u001b[1;32m    522\u001b[0m \u001b[39m# block 4 : fabrication\u001b[39;00m\n\u001b[1;32m    523\u001b[0m \u001b[39mif\u001b[39;00m fabrication_method \u001b[39m==\u001b[39m \u001b[39m\"\u001b[39m\u001b[39mVAM\u001b[39m\u001b[39m\"\u001b[39m:\n\u001b[0;32m--> 524\u001b[0m     \u001b[39mself\u001b[39;49m\u001b[39m.\u001b[39;49mprocess_vam(\n\u001b[1;32m    525\u001b[0m         composition_id,\n\u001b[1;32m    526\u001b[0m         fabrication_method,\n\u001b[1;32m    527\u001b[0m         batch,\n\u001b[1;32m    528\u001b[0m         synthesis_details,\n\u001b[1;32m    529\u001b[0m         processing_details,\n\u001b[1;32m    530\u001b[0m         common_tags,\n\u001b[1;32m    531\u001b[0m         alloy_common_name,\n\u001b[1;32m    532\u001b[0m         block3,\n\u001b[1;32m    533\u001b[0m     )\n",
      "File \u001b[0;32m/srv/hemi01-j01/gemd_tools/workflow/TAMUWorkflow.py:720\u001b[0m, in \u001b[0;36mTAMUWorkflow.process_vam\u001b[0;34m(self, composition_id, fabrication_method, batch, synthesis_details, processing_details, common_tags, alloy_common_name, prior_block)\u001b[0m\n\u001b[1;32m    705\u001b[0m         \u001b[39mprint\u001b[39m(purging_pressure)\n\u001b[1;32m    706\u001b[0m         homogenization_process\u001b[39m.\u001b[39m_update_attributes(\n\u001b[1;32m    707\u001b[0m             AttrType\u001b[39m=\u001b[39mParameter,\n\u001b[1;32m    708\u001b[0m             attributes\u001b[39m=\u001b[39m(\n\u001b[0;32m   (...)\u001b[0m\n\u001b[1;32m    717\u001b[0m             replace_all\u001b[39m=\u001b[39m\u001b[39mFalse\u001b[39;00m,\n\u001b[1;32m    718\u001b[0m         )\n\u001b[0;32m--> 720\u001b[0m gen_homogenization_process_params()\n\u001b[1;32m    721\u001b[0m homogenization_process\u001b[39m.\u001b[39m_run\u001b[39m.\u001b[39msource \u001b[39m=\u001b[39m homogenization_performed_source\n\u001b[1;32m    722\u001b[0m \u001b[39mprint\u001b[39m(homogenization_process\u001b[39m.\u001b[39mget_tags_dict())\n",
      "File \u001b[0;32m/srv/hemi01-j01/gemd_tools/workflow/TAMUWorkflow.py:703\u001b[0m, in \u001b[0;36mTAMUWorkflow.process_vam.<locals>.gen_homogenization_process_params\u001b[0;34m()\u001b[0m\n\u001b[1;32m    701\u001b[0m \u001b[39mdef\u001b[39;00m \u001b[39mgen_homogenization_process_params\u001b[39m():\n\u001b[1;32m    702\u001b[0m     \u001b[39mprint\u001b[39m(homogenization_parameters_2)\n\u001b[0;32m--> 703\u001b[0m     \u001b[39mfor\u001b[39;00m (purging_step, purging_pressure) \u001b[39min\u001b[39;00m homogenization_parameters_2\u001b[39m.\u001b[39mvalues():\n\u001b[1;32m    704\u001b[0m         \u001b[39mprint\u001b[39m(purging_step)\n\u001b[1;32m    705\u001b[0m         \u001b[39mprint\u001b[39m(purging_pressure)\n",
      "\u001b[0;31mTypeError\u001b[0m: cannot unpack non-iterable float object"
     ]
    }
   ],
   "source": [
    "w_aab.build_model()\n",
    "# w_aac.build_model()\n",
    "# w_aac.link_prior(w_aab)"
   ]
  },
  {
   "cell_type": "code",
   "execution_count": null,
   "metadata": {},
   "outputs": [],
   "source": [
    "# w_aab.thin_dumps()"
   ]
  },
  {
   "cell_type": "code",
   "execution_count": null,
   "metadata": {},
   "outputs": [],
   "source": [
    "# w_aab.thin_plots()"
   ]
  },
  {
   "cell_type": "code",
   "execution_count": null,
   "metadata": {},
   "outputs": [],
   "source": [
    "# w_aab.dumps()"
   ]
  },
  {
   "cell_type": "code",
   "execution_count": null,
   "metadata": {},
   "outputs": [],
   "source": [
    "# plot_graph(\"data/AAB\")"
   ]
  },
  {
   "cell_type": "code",
   "execution_count": null,
   "metadata": {},
   "outputs": [],
   "source": [
    "# w_aab.thin_dumps_single_obj(w_aab.terminal_materials['AAB04']['B']['VAM'])"
   ]
  },
  {
   "cell_type": "code",
   "execution_count": null,
   "metadata": {},
   "outputs": [],
   "source": [
    "# aab_tree_paths = w_aab.make_tree(Folder, Path(w_aab.root))\n",
    "# for p in aab_tree_paths:\n",
    "#     print(p.displayable())"
   ]
  },
  {
   "cell_type": "code",
   "execution_count": null,
   "metadata": {},
   "outputs": [],
   "source": [
    "# iteration_count = 1\n",
    "# iteration = \"AAA\"\n",
    "# source_folder = \"../data/\"\n",
    "# output_folder = \"data/\"\n",
    "# sample_data_folder = \"../Sample Data/Iteration{}_{}\".format(iteration_count, iteration)\n",
    "# path = os.path.join(source_folder, iteration)\n",
    "# w_aaa = TAMUWorkflow(path, output_folder=output_folder, iteration=iteration, sample_data_folder=sample_data_folder)"
   ]
  },
  {
   "cell_type": "code",
   "execution_count": null,
   "metadata": {},
   "outputs": [],
   "source": [
    "# aaa_tree_paths = w_aaa.make_tree(Folder, Path(w_aaa.root))\n",
    "# for p in aaa_tree_paths:\n",
    "#     print(p.displayable())"
   ]
  },
  {
   "cell_type": "code",
   "execution_count": null,
   "metadata": {},
   "outputs": [],
   "source": [
    "# aac_tree_paths = w_aac.make_tree(Folder, Path(w_aac.root))\n",
    "# for p in aac_tree_paths:\n",
    "#     print(p.displayable())"
   ]
  }
 ],
 "metadata": {
  "kernelspec": {
   "display_name": "birdshot",
   "language": "python",
   "name": "python3"
  },
  "language_info": {
   "codemirror_mode": {
    "name": "ipython",
    "version": 3
   },
   "file_extension": ".py",
   "mimetype": "text/x-python",
   "name": "python",
   "nbconvert_exporter": "python",
   "pygments_lexer": "ipython3",
   "version": "3.9.16 (main, Mar  8 2023, 14:00:05) \n[GCC 11.2.0]"
  },
  "orig_nbformat": 4,
  "vscode": {
   "interpreter": {
    "hash": "c93de424c187b5f45150c4b68957697054d2d10439b831359c08b5dbeaa012b5"
   }
  }
 },
 "nbformat": 4,
 "nbformat_minor": 2
}
