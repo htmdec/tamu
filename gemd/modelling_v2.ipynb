{
 "cells": [
  {
   "cell_type": "code",
   "execution_count": null,
   "metadata": {},
   "outputs": [],
   "source": [
    "# %matplotlib inline\n",
    "%load_ext autoreload\n",
    "%autoreload 2\n",
    "import sys\n",
    "gemd_tools_path = \"/srv/hemi01-j01/gemd_tools\"\n",
    "sys.path.append(gemd_tools_path)\n",
    "from workflow.Folder import Folder\n",
    "from workflow.TAMUWorkflow import TAMUWorkflow\n",
    "from workflow.Workflow import Workflow\n",
    "from utilities.tools import  plot_graph\n",
    "import os\n",
    "from pathlib import Path"
   ]
  },
  {
   "cell_type": "code",
   "execution_count": null,
   "metadata": {},
   "outputs": [],
   "source": [
    "iteration_count = 2\n",
    "iteration = \"AAB\"\n",
    "source_folder = \"../data/\"\n",
    "output_folder = \"data/{}\".format(iteration)\n",
    "sample_data_folder = \"../Sample Data/Iteration{}_{}\".format(iteration_count, iteration)\n",
    "path = os.path.join(source_folder, iteration)\n",
    "w_aab = TAMUWorkflow(path, output_folder=output_folder, iteration=iteration, sample_data_folder=sample_data_folder)\n",
    "\n",
    "iteration_count = 3\n",
    "iteration = \"AAC\"\n",
    "source_folder = \"../data/\"\n",
    "output_folder = \"data/{}\".format(iteration)\n",
    "sample_data_folder = \"../Sample Data/Iteration{}_{}\".format(iteration_count, iteration)\n",
    "path = os.path.join(source_folder, iteration)\n",
    "w_aac = TAMUWorkflow(path, output_folder=output_folder, iteration=iteration, sample_data_folder=sample_data_folder)"
   ]
  },
  {
   "cell_type": "code",
   "execution_count": null,
   "metadata": {},
   "outputs": [],
   "source": [
    "w_aab.build_model()\n",
    "# w_aac.build_model()\n",
    "# w_aac.link_prior(w_aab)"
   ]
  },
  {
   "cell_type": "code",
   "execution_count": 4,
   "metadata": {},
   "outputs": [],
   "source": [
    "w_aab.thin_dumps()"
   ]
  },
  {
   "cell_type": "code",
   "execution_count": 5,
   "metadata": {},
   "outputs": [
    {
     "name": "stderr",
     "output_type": "stream",
     "text": [
      "/srv/hemi01-j01/anaconda3/envs/birdshot/lib/python3.9/site-packages/pygraphviz/agraph.py:1405: RuntimeWarning: neato: graph is too large for cairo-renderer bitmaps. Scaling by 0.48396 to fit\n",
      "\n",
      "  warnings.warn(b\"\".join(errors).decode(self.encoding), RuntimeWarning)\n"
     ]
    },
    {
     "name": "stdout",
     "output_type": "stream",
     "text": [
      "cycles in the graph: []\n",
      "nb of disregarded elements (i.e., templates/specs): 0/278\n",
      "cycles in the graph: []\n",
      "nb of disregarded elements (i.e., templates/specs): 0/0\n"
     ]
    },
    {
     "name": "stderr",
     "output_type": "stream",
     "text": [
      "/srv/hemi01-j01/anaconda3/envs/birdshot/lib/python3.9/site-packages/pygraphviz/agraph.py:1405: RuntimeWarning: neato: graph is too large for cairo-renderer bitmaps. Scaling by 0.483967 to fit\n",
      "\n",
      "  warnings.warn(b\"\".join(errors).decode(self.encoding), RuntimeWarning)\n"
     ]
    },
    {
     "name": "stdout",
     "output_type": "stream",
     "text": [
      "cycles in the graph: []\n",
      "nb of disregarded elements (i.e., templates/specs): 0/278\n",
      "cycles in the graph: []\n",
      "nb of disregarded elements (i.e., templates/specs): 0/0\n",
      "cycles in the graph: []\n",
      "nb of disregarded elements (i.e., templates/specs): 0/0\n"
     ]
    },
    {
     "name": "stderr",
     "output_type": "stream",
     "text": [
      "/srv/hemi01-j01/anaconda3/envs/birdshot/lib/python3.9/site-packages/pygraphviz/agraph.py:1405: RuntimeWarning: neato: graph is too large for cairo-renderer bitmaps. Scaling by 0.483946 to fit\n",
      "\n",
      "  warnings.warn(b\"\".join(errors).decode(self.encoding), RuntimeWarning)\n"
     ]
    },
    {
     "name": "stdout",
     "output_type": "stream",
     "text": [
      "cycles in the graph: []\n",
      "nb of disregarded elements (i.e., templates/specs): 0/262\n",
      "cycles in the graph: []\n",
      "nb of disregarded elements (i.e., templates/specs): 0/0\n"
     ]
    },
    {
     "name": "stderr",
     "output_type": "stream",
     "text": [
      "/srv/hemi01-j01/anaconda3/envs/birdshot/lib/python3.9/site-packages/pygraphviz/agraph.py:1405: RuntimeWarning: neato: graph is too large for cairo-renderer bitmaps. Scaling by 0.483974 to fit\n",
      "\n",
      "  warnings.warn(b\"\".join(errors).decode(self.encoding), RuntimeWarning)\n"
     ]
    },
    {
     "name": "stdout",
     "output_type": "stream",
     "text": [
      "cycles in the graph: []\n",
      "nb of disregarded elements (i.e., templates/specs): 0/278\n",
      "cycles in the graph: []\n",
      "nb of disregarded elements (i.e., templates/specs): 0/0\n"
     ]
    },
    {
     "name": "stderr",
     "output_type": "stream",
     "text": [
      "/srv/hemi01-j01/anaconda3/envs/birdshot/lib/python3.9/site-packages/pygraphviz/agraph.py:1405: RuntimeWarning: neato: graph is too large for cairo-renderer bitmaps. Scaling by 0.483939 to fit\n",
      "\n",
      "  warnings.warn(b\"\".join(errors).decode(self.encoding), RuntimeWarning)\n"
     ]
    },
    {
     "name": "stdout",
     "output_type": "stream",
     "text": [
      "cycles in the graph: []\n",
      "nb of disregarded elements (i.e., templates/specs): 0/278\n"
     ]
    },
    {
     "name": "stderr",
     "output_type": "stream",
     "text": [
      "/srv/hemi01-j01/anaconda3/envs/birdshot/lib/python3.9/site-packages/pygraphviz/agraph.py:1405: RuntimeWarning: neato: graph is too large for cairo-renderer bitmaps. Scaling by 0.483953 to fit\n",
      "\n",
      "  warnings.warn(b\"\".join(errors).decode(self.encoding), RuntimeWarning)\n"
     ]
    },
    {
     "name": "stdout",
     "output_type": "stream",
     "text": [
      "cycles in the graph: []\n",
      "nb of disregarded elements (i.e., templates/specs): 0/278\n",
      "cycles in the graph: []\n",
      "nb of disregarded elements (i.e., templates/specs): 0/0\n"
     ]
    },
    {
     "name": "stderr",
     "output_type": "stream",
     "text": [
      "/srv/hemi01-j01/anaconda3/envs/birdshot/lib/python3.9/site-packages/pygraphviz/agraph.py:1405: RuntimeWarning: neato: graph is too large for cairo-renderer bitmaps. Scaling by 0.956645 to fit\n",
      "\n",
      "  warnings.warn(b\"\".join(errors).decode(self.encoding), RuntimeWarning)\n"
     ]
    },
    {
     "name": "stdout",
     "output_type": "stream",
     "text": [
      "cycles in the graph: []\n",
      "nb of disregarded elements (i.e., templates/specs): 0/278\n",
      "cycles in the graph: []\n",
      "nb of disregarded elements (i.e., templates/specs): 0/0\n",
      "cycles in the graph: []\n",
      "nb of disregarded elements (i.e., templates/specs): 0/270\n",
      "cycles in the graph: []\n",
      "nb of disregarded elements (i.e., templates/specs): 0/0\n",
      "cycles in the graph: []\n",
      "nb of disregarded elements (i.e., templates/specs): 0/0\n"
     ]
    },
    {
     "name": "stderr",
     "output_type": "stream",
     "text": [
      "/srv/hemi01-j01/anaconda3/envs/birdshot/lib/python3.9/site-packages/pygraphviz/agraph.py:1405: RuntimeWarning: neato: graph is too large for cairo-renderer bitmaps. Scaling by 0.483989 to fit\n",
      "\n",
      "  warnings.warn(b\"\".join(errors).decode(self.encoding), RuntimeWarning)\n"
     ]
    },
    {
     "name": "stdout",
     "output_type": "stream",
     "text": [
      "cycles in the graph: []\n",
      "nb of disregarded elements (i.e., templates/specs): 0/270\n",
      "cycles in the graph: []\n",
      "nb of disregarded elements (i.e., templates/specs): 0/0\n",
      "cycles in the graph: []\n",
      "nb of disregarded elements (i.e., templates/specs): 0/278\n",
      "cycles in the graph: []\n",
      "nb of disregarded elements (i.e., templates/specs): 0/0\n"
     ]
    },
    {
     "name": "stderr",
     "output_type": "stream",
     "text": [
      "/srv/hemi01-j01/anaconda3/envs/birdshot/lib/python3.9/site-packages/pygraphviz/agraph.py:1405: RuntimeWarning: neato: graph is too large for cairo-renderer bitmaps. Scaling by 0.981459 to fit\n",
      "\n",
      "  warnings.warn(b\"\".join(errors).decode(self.encoding), RuntimeWarning)\n"
     ]
    },
    {
     "name": "stdout",
     "output_type": "stream",
     "text": [
      "cycles in the graph: []\n",
      "nb of disregarded elements (i.e., templates/specs): 0/278\n",
      "cycles in the graph: []\n",
      "nb of disregarded elements (i.e., templates/specs): 0/0\n"
     ]
    },
    {
     "name": "stderr",
     "output_type": "stream",
     "text": [
      "/srv/hemi01-j01/anaconda3/envs/birdshot/lib/python3.9/site-packages/pygraphviz/agraph.py:1405: RuntimeWarning: neato: graph is too large for cairo-renderer bitmaps. Scaling by 0.950016 to fit\n",
      "\n",
      "  warnings.warn(b\"\".join(errors).decode(self.encoding), RuntimeWarning)\n",
      "/srv/hemi01-j01/anaconda3/envs/birdshot/lib/python3.9/site-packages/pygraphviz/agraph.py:1405: RuntimeWarning: neato: graph is too large for cairo-renderer bitmaps. Scaling by 0.483982 to fit\n",
      "\n",
      "  warnings.warn(b\"\".join(errors).decode(self.encoding), RuntimeWarning)\n"
     ]
    },
    {
     "name": "stdout",
     "output_type": "stream",
     "text": [
      "cycles in the graph: []\n",
      "nb of disregarded elements (i.e., templates/specs): 0/270\n",
      "cycles in the graph: []\n",
      "nb of disregarded elements (i.e., templates/specs): 0/270\n",
      "cycles in the graph: []\n",
      "nb of disregarded elements (i.e., templates/specs): 0/0\n"
     ]
    },
    {
     "name": "stderr",
     "output_type": "stream",
     "text": [
      "/srv/hemi01-j01/anaconda3/envs/birdshot/lib/python3.9/site-packages/pygraphviz/agraph.py:1405: RuntimeWarning: neato: graph is too large for cairo-renderer bitmaps. Scaling by 0.993933 to fit\n",
      "\n",
      "  warnings.warn(b\"\".join(errors).decode(self.encoding), RuntimeWarning)\n"
     ]
    },
    {
     "name": "stdout",
     "output_type": "stream",
     "text": [
      "cycles in the graph: []\n",
      "nb of disregarded elements (i.e., templates/specs): 0/270\n",
      "cycles in the graph: []\n",
      "nb of disregarded elements (i.e., templates/specs): 0/0\n",
      "cycles in the graph: []\n",
      "nb of disregarded elements (i.e., templates/specs): 0/0\n",
      "cycles in the graph: []\n",
      "nb of disregarded elements (i.e., templates/specs): 0/278\n",
      "cycles in the graph: []\n",
      "nb of disregarded elements (i.e., templates/specs): 0/0\n",
      "cycles in the graph: []\n",
      "nb of disregarded elements (i.e., templates/specs): 0/278\n"
     ]
    }
   ],
   "source": [
    "w_aab.thin_plots()"
   ]
  },
  {
   "cell_type": "code",
   "execution_count": 6,
   "metadata": {},
   "outputs": [],
   "source": [
    "w_aab.dumps()"
   ]
  },
  {
   "cell_type": "code",
   "execution_count": 9,
   "metadata": {},
   "outputs": [
    {
     "ename": "KeyError",
     "evalue": "'type'",
     "output_type": "error",
     "traceback": [
      "\u001b[0;31m---------------------------------------------------------------------------\u001b[0m",
      "\u001b[0;31mKeyError\u001b[0m                                  Traceback (most recent call last)",
      "Cell \u001b[0;32mIn[9], line 1\u001b[0m\n\u001b[0;32m----> 1\u001b[0m plot_graph(\u001b[39m\"\u001b[39;49m\u001b[39mdata/AAB/\u001b[39;49m\u001b[39m\"\u001b[39;49m)\n\u001b[1;32m      2\u001b[0m \u001b[39m# plot_graph(\"data/\")\u001b[39;00m\n",
      "File \u001b[0;32m/srv/hemi01-j01/gemd_tools/utilities/tools.py:45\u001b[0m, in \u001b[0;36mplot_graph\u001b[0;34m(dirpath, mode)\u001b[0m\n\u001b[1;32m     43\u001b[0m fp \u001b[39m=\u001b[39m  \u001b[39mopen\u001b[39m(obj, \u001b[39m'\u001b[39m\u001b[39mr\u001b[39m\u001b[39m'\u001b[39m)\n\u001b[1;32m     44\u001b[0m obj_data \u001b[39m=\u001b[39m json\u001b[39m.\u001b[39mload(fp)\n\u001b[0;32m---> 45\u001b[0m obj_type \u001b[39m=\u001b[39m obj_data[\u001b[39m'\u001b[39;49m\u001b[39mtype\u001b[39;49m\u001b[39m'\u001b[39;49m]\n\u001b[1;32m     46\u001b[0m \u001b[39mif\u001b[39;00m obj_type\u001b[39m.\u001b[39mstartswith(\u001b[39m'\u001b[39m\u001b[39mparameter\u001b[39m\u001b[39m'\u001b[39m) \u001b[39mor\u001b[39;00m obj_type\u001b[39m.\u001b[39mstartswith(\u001b[39m'\u001b[39m\u001b[39mcondition\u001b[39m\u001b[39m'\u001b[39m) \u001b[39mor\u001b[39;00m obj_type\u001b[39m.\u001b[39mstartswith(\u001b[39m'\u001b[39m\u001b[39mproperty\u001b[39m\u001b[39m'\u001b[39m):\n\u001b[1;32m     47\u001b[0m     nb_disregarded \u001b[39m+\u001b[39m\u001b[39m=\u001b[39m\u001b[39m1\u001b[39m\n",
      "\u001b[0;31mKeyError\u001b[0m: 'type'"
     ]
    }
   ],
   "source": [
    "plot_graph(\"data/AAB\")\n",
    "# plot_graph(\"data/\")"
   ]
  },
  {
   "cell_type": "code",
   "execution_count": null,
   "metadata": {},
   "outputs": [],
   "source": [
    "w_aab.thin_dumps_obj(w_aab.terminal_materials['AAA04']['B']['VAM'])"
   ]
  },
  {
   "cell_type": "code",
   "execution_count": null,
   "metadata": {},
   "outputs": [],
   "source": [
    "# aab_tree_paths = w_aab.make_tree(Folder, Path(w_aab.root))\n",
    "# for p in aab_tree_paths:\n",
    "#     print(p.displayable())"
   ]
  },
  {
   "cell_type": "code",
   "execution_count": null,
   "metadata": {},
   "outputs": [],
   "source": [
    "# iteration_count = 1\n",
    "# iteration = \"AAA\"\n",
    "# source_folder = \"../data/\"\n",
    "# output_folder = \"data/\"\n",
    "# sample_data_folder = \"../Sample Data/Iteration{}_{}\".format(iteration_count, iteration)\n",
    "# path = os.path.join(source_folder, iteration)\n",
    "# w_aaa = TAMUWorkflow(path, output_folder=output_folder, iteration=iteration, sample_data_folder=sample_data_folder)"
   ]
  },
  {
   "cell_type": "code",
   "execution_count": null,
   "metadata": {},
   "outputs": [],
   "source": [
    "# aaa_tree_paths = w_aaa.make_tree(Folder, Path(w_aaa.root))\n",
    "# for p in aaa_tree_paths:\n",
    "#     print(p.displayable())"
   ]
  },
  {
   "cell_type": "code",
   "execution_count": null,
   "metadata": {},
   "outputs": [],
   "source": []
  },
  {
   "cell_type": "code",
   "execution_count": null,
   "metadata": {},
   "outputs": [],
   "source": [
    "# aac_tree_paths = w_aac.make_tree(Folder, Path(w_aac.root))\n",
    "# for p in aac_tree_paths:\n",
    "#     print(p.displayable())"
   ]
  }
 ],
 "metadata": {
  "kernelspec": {
   "display_name": "birdshot",
   "language": "python",
   "name": "python3"
  },
  "language_info": {
   "codemirror_mode": {
    "name": "ipython",
    "version": 3
   },
   "file_extension": ".py",
   "mimetype": "text/x-python",
   "name": "python",
   "nbconvert_exporter": "python",
   "pygments_lexer": "ipython3",
   "version": "3.9.16"
  },
  "orig_nbformat": 4,
  "vscode": {
   "interpreter": {
    "hash": "c93de424c187b5f45150c4b68957697054d2d10439b831359c08b5dbeaa012b5"
   }
  }
 },
 "nbformat": 4,
 "nbformat_minor": 2
}
