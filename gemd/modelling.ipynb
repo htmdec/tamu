{
 "cells": [
  {
   "cell_type": "code",
   "execution_count": 3,
   "metadata": {},
   "outputs": [],
   "source": [
    "import sys\n",
    "import helpers, folder\n",
    "from attribute_templates import *\n",
    "from object_templates import *\n",
    "from utilities import *\n",
    "import os\n",
    "import gemd\n",
    "from gemd.entity.object import MaterialRun, ProcessRun, IngredientRun, MeasurementRun\n",
    "from gemd.entity import PerformedSource, FileLink\n",
    "from gemd.entity.attribute import Property, Parameter, Condition, PropertyAndConditions\n",
    "from gemd.json import GEMDJson\n",
    "from pathlib import Path"
   ]
  },
  {
   "cell_type": "code",
   "execution_count": 4,
   "metadata": {},
   "outputs": [],
   "source": [
    "encoder = GEMDJson()"
   ]
  },
  {
   "cell_type": "code",
   "execution_count": null,
   "metadata": {},
   "outputs": [],
   "source": []
  },
  {
   "attachments": {},
   "cell_type": "markdown",
   "metadata": {},
   "source": [
    "### SPECs"
   ]
  },
  {
   "cell_type": "code",
   "execution_count": 5,
   "metadata": {},
   "outputs": [],
   "source": [
    "from gemd.entity.object import MaterialRun, ProcessRun, IngredientRun, MeasurementRun"
   ]
  },
  {
   "cell_type": "code",
   "execution_count": 6,
   "metadata": {},
   "outputs": [],
   "source": [
    "composition_material_spec = generate_composition(conditions=[], \n",
    "                                                    parameters=[], \n",
    "                                                    output_mat_name='Composition', \n",
    "                                                    output_mat_properties=[])\n",
    "alloy_material_spec = fabricate_alloy(\n",
    "                ingredients=[composition_material_spec],\n",
    "                conditions=[], \n",
    "                parameters=[], \n",
    "                output_mat_name='Alloy', \n",
    "                output_mat_properties=[])\n",
    "alloy_traveler_material_spec = setting_alloy_traveler(\n",
    "    ingredients=[alloy_material_spec],\n",
    "                conditions=[], \n",
    "                parameters=[], \n",
    "                output_mat_name='Alloy traveler', \n",
    "                output_mat_properties=[]\n",
    ")\n",
    "alloy_sample_material_spec = setting_alloy_sample(\n",
    "    ingredients=[alloy_traveler_material_spec],\n",
    "                conditions=[], \n",
    "                parameters=[], \n",
    "                output_mat_name='Alloy sample', \n",
    "                output_mat_properties=[]\n",
    ")\n",
    "\n"
   ]
  },
  {
   "cell_type": "code",
   "execution_count": 7,
   "metadata": {},
   "outputs": [],
   "source": [
    "danial_khatamsaz_performed_source = PerformedSource('danialkh26@tamu.edu', '04/03')"
   ]
  },
  {
   "attachments": {},
   "cell_type": "markdown",
   "metadata": {},
   "source": [
    "### which iteration would would you like to generate?"
   ]
  },
  {
   "cell_type": "code",
   "execution_count": null,
   "metadata": {},
   "outputs": [],
   "source": [
    "iteration = \"AAA\"\n",
    "path = \"/srv/hemi01-j01/htmdec/tamu_htmdec_new/data/\""
   ]
  },
  {
   "cell_type": "code",
   "execution_count": null,
   "metadata": {},
   "outputs": [],
   "source": [
    "producible_path = Path(path)\n",
    "to_display = os.path.join(producible_path, iteration)\n",
    "paths = folder.Folder.make_tree(Path(to_display))"
   ]
  },
  {
   "cell_type": "code",
   "execution_count": 13,
   "metadata": {},
   "outputs": [
    {
     "name": "stdout",
     "output_type": "stream",
     "text": [
      "0\n",
      "<class 'int'>\n"
     ]
    },
    {
     "ename": "AttributeError",
     "evalue": "'MaterialSpec' object has no attribute 'thin_dumps'",
     "output_type": "error",
     "traceback": [
      "\u001b[0;31m---------------------------------------------------------------------------\u001b[0m",
      "\u001b[0;31mAttributeError\u001b[0m                            Traceback (most recent call last)",
      "Cell \u001b[0;32mIn[13], line 45\u001b[0m\n\u001b[1;32m     31\u001b[0m \u001b[39m# generating composition with BO\u001b[39;00m\n\u001b[1;32m     32\u001b[0m composition_material_spec \u001b[39m=\u001b[39m generate_composition(\n\u001b[1;32m     33\u001b[0m     conditions\u001b[39m=\u001b[39m[],\n\u001b[1;32m     34\u001b[0m     parameters\u001b[39m=\u001b[39m[], \n\u001b[0;32m   (...)\u001b[0m\n\u001b[1;32m     43\u001b[0m     ]\n\u001b[1;32m     44\u001b[0m )\n\u001b[0;32m---> 45\u001b[0m helpers\u001b[39m.\u001b[39;49mtest(composition_material_spec, composition_id, composition_material_spec)\n\u001b[1;32m     46\u001b[0m \u001b[39mif\u001b[39;00m count \u001b[39m==\u001b[39m \u001b[39m2\u001b[39m:\n\u001b[1;32m     47\u001b[0m     \u001b[39mbreak\u001b[39;00m\n",
      "File \u001b[0;32m/srv/hemi01-j01/htmdec/tamu_htmdec_new/gemd/helpers.py:91\u001b[0m, in \u001b[0;36mtest\u001b[0;34m(encoder, subdirpath, terminal_gemd_obj)\u001b[0m\n\u001b[1;32m     89\u001b[0m \u001b[39mglobal\u001b[39;00m _encoder\n\u001b[1;32m     90\u001b[0m _encoder \u001b[39m=\u001b[39m encoder\n\u001b[0;32m---> 91\u001b[0m encoder\u001b[39m.\u001b[39;49mthin_dumps(terminal_gemd_obj,indent\u001b[39m=\u001b[39m\u001b[39m3\u001b[39m) \u001b[39m# this step needs to be run to instantiate\u001b[39;00m\n\u001b[1;32m     92\u001b[0m recursive_foreach(terminal_gemd_obj, out)\n\u001b[1;32m     93\u001b[0m \u001b[39mreturn\u001b[39;00m plot_graph(subdirpath)\n",
      "\u001b[0;31mAttributeError\u001b[0m: 'MaterialSpec' object has no attribute 'thin_dumps'"
     ]
    }
   ],
   "source": [
    "import json\n",
    "import shutil\n",
    "\n",
    "count = 0\n",
    "for path in paths:\n",
    "    if '/DED' in str(path.path) and path.depth == 5: # example: /data/AAA/DED/A/AAA01-AAA08/AAA01/C01\n",
    "        continue\n",
    "    if '/VAM' in str(path.path) and path.depth == 4: # example: /data/AAA/VAM/B/AAA01/T01\n",
    "        vam_processing_details = json.load(open(os.path.join(path.path, 'vam-processing-details-v1.json')))\n",
    "        vam_synthesis_details = json.load(open(os.path.join(path.path, 'vam-synthesis-details-v1.json')))\n",
    "        vam_traveler = json.load(open(os.path.join(path.path, 'vam-traveler-v1.json')))\n",
    "        full_path = str(path.path)\n",
    "        composition_id = full_path.split('/')[-2]\n",
    "        if count == 1:\n",
    "            print(composition_id)\n",
    "            print(json.dumps(vam_processing_details, indent=4))\n",
    "            print(json.dumps(vam_synthesis_details, indent=4))\n",
    "            print(json.dumps(vam_traveler, indent=4))\n",
    "        raw_jsons_dirpath = os.path.join(composition_id,'raw_jsons' )\n",
    "        thin_jsons_dirpath = os.path.join(composition_id,'thin_jsons' )\n",
    "        if os.path.exists(composition_id):\n",
    "            shutil.rmtree(composition_id)\n",
    "        os.makedirs(composition_id)\n",
    "        os.makedirs(raw_jsons_dirpath)\n",
    "        os.makedirs(thin_jsons_dirpath)\n",
    "        \n",
    "        mat_composition = vam_traveler['data']['Material Composition']\n",
    "        print(mat_composition['Al'])\n",
    "        print(type(mat_composition['Al']))\n",
    "        \n",
    "        # generating composition with BO\n",
    "        composition_material_spec = generate_composition(\n",
    "            conditions=[],\n",
    "            parameters=[], \n",
    "            output_mat_name='Composition: {}'.format(composition_id), \n",
    "            output_mat_properties=[\n",
    "                    PropertyAndConditions(property=Property('Al', value=NominalReal(float(mat_composition['Al']),''), template=ATTR_TEMPL['Material Composition']), conditions = []),\n",
    "                    PropertyAndConditions(property=Property('Co', value=NominalReal(float(mat_composition['Co']),''), template=ATTR_TEMPL['Material Composition']), conditions = []),\n",
    "                    PropertyAndConditions(property=Property('Cr', value=NominalReal(float(mat_composition['Cr']),''), template=ATTR_TEMPL['Material Composition']), conditions = []),\n",
    "                    PropertyAndConditions(property=Property('Fe', value=NominalReal(float(mat_composition['Fe']),''), template=ATTR_TEMPL['Material Composition']), conditions = []),\n",
    "                    PropertyAndConditions(property=Property('Ni', value=NominalReal(float(mat_composition['Ni']),''), template=ATTR_TEMPL['Material Composition']), conditions = []),\n",
    "                    PropertyAndConditions(property=Property('V', value=NominalReal(float(mat_composition['V']),''), template=ATTR_TEMPL['Material Composition']), conditions = []),\n",
    "            ]\n",
    "        )\n",
    "        # helpers.test(encoder, composition_id, composition_material_spec)\n",
    "        if count == 2:\n",
    "            break\n",
    "        count += 1 \n",
    "        # temp = os.path.join(raw_jsons_dirpath, 'temp')\n",
    "        # with open(temp, 'w') as fp:\n",
    "        #     fp.write(encoder.dumps(composition_material_spec, indent=3))\n",
    "\n",
    "        # NEXT: fabricating the composition\n",
    "        # 1) material prep = weighting\n",
    "        # 2) arc melting\n",
    "        # 1) homogenization\n",
    "        # 1) Forging\n",
    "        \n",
    "        # NEXT: creating the traveler for the composition\n",
    "        \n",
    "    # if path.depth == 0: \n",
    "    #     generate_composition_process_run = ProcessRun(\n",
    "    #         name=\" Generating composition space: {}\".format(path.path.name),\n",
    "    #         spec = composition_space_material_spec.process,\n",
    "    #         source=danial_khatamsaz_performed_source\n",
    "    #     ) \n",
    "    #     composition_space_material_run  = MaterialRun(\n",
    "    #         name = \"Composition space: {}\".format(path.path.name),\n",
    "    #         spec = composition_space_material_spec, \n",
    "    #         process = generate_composition_process_run, \n",
    "    #         sample_type='production'\n",
    "            \n",
    "    #     )\n",
    "    # elif path.depth == 2:\n",
    "    #     fabrication_method = path.path.split('/')[-2]\n",
    "    #     print(path.path)\n",
    "    #     print(path.path.name)\n",
    "    #     print(path.depth)\n",
    "    #     fabrication_process_run = ProcessRun(\n",
    "    #         name=\"Fabricating batch {} of {} using {}\".format(path.path.name, )\n",
    "    #     )\n",
    "        # alloy_production_batch_material_spec\n",
    "    # count += 1\n",
    "    # if count == 3:\n",
    "    #     break"
   ]
  },
  {
   "cell_type": "code",
   "execution_count": 9,
   "metadata": {},
   "outputs": [],
   "source": [
    "# generate_composition_process_run = ProcessRun(\n",
    "#             name = \"Generating composition: {}\".format(composition_id),\n",
    "#             spec = composition_material_spec.process,\n",
    "#             source = danial_khatamsaz_performed_source,\n",
    "#             tags = []   \n",
    "#         )\n",
    "#         composition_material_run = MaterialRun(\n",
    "#             name = \"Composition: {}\".format(composition_id),\n",
    "#             process = generate_composition_process_run,\n",
    "#             spec = composition_material_spec,\n",
    "#             sample_type = 'experimental',\n",
    "#             tags = []\n",
    "#         )\n",
    "#         # fab"
   ]
  },
  {
   "cell_type": "code",
   "execution_count": null,
   "metadata": {},
   "outputs": [],
   "source": []
  }
 ],
 "metadata": {
  "kernelspec": {
   "display_name": "openmsi",
   "language": "python",
   "name": "python3"
  },
  "language_info": {
   "codemirror_mode": {
    "name": "ipython",
    "version": 3
   },
   "file_extension": ".py",
   "mimetype": "text/x-python",
   "name": "python",
   "nbconvert_exporter": "python",
   "pygments_lexer": "ipython3",
   "version": "3.10.4"
  },
  "orig_nbformat": 4,
  "vscode": {
   "interpreter": {
    "hash": "fb645009c116d5039904721c8adf4c8b0db0fb5fb3075e53513df0d86499dda9"
   }
  }
 },
 "nbformat": 4,
 "nbformat_minor": 2
}
