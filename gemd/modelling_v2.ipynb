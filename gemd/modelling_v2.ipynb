{
 "cells": [
  {
   "cell_type": "code",
   "execution_count": null,
   "metadata": {},
   "outputs": [],
   "source": [
    "# %matplotlib inline\n",
    "%load_ext autoreload\n",
    "%autoreload 2\n",
    "import sys\n",
    "gemd_tools_path = \"/srv/hemi01-j01/gemd_tools\"\n",
    "sys.path.append(gemd_tools_path)\n",
    "from workflow.Folder import Folder\n",
    "from workflow.TAMUWorkflow import TAMUWorkflow\n",
    "from workflow.Workflow import Workflow\n",
    "from utilities.tools import  plot_graph\n",
    "import os\n",
    "from pathlib import Path"
   ]
  },
  {
   "cell_type": "code",
   "execution_count": null,
   "metadata": {},
   "outputs": [],
   "source": [
    "iteration_count = 2\n",
    "iteration = \"AAB\"\n",
    "source_folder = \"../data/\"\n",
    "output_folder = \"data/\"\n",
    "sample_data_folder = \"../Sample Data/Iteration{}_{}\".format(iteration_count, iteration)\n",
    "path = os.path.join(source_folder, iteration)\n",
    "w_aab = TAMUWorkflow(path, output_folder=output_folder, iteration=iteration, sample_data_folder=sample_data_folder)"
   ]
  },
  {
   "cell_type": "code",
   "execution_count": null,
   "metadata": {},
   "outputs": [],
   "source": [
    "w_aab.build_model()"
   ]
  },
  {
   "cell_type": "code",
   "execution_count": null,
   "metadata": {},
   "outputs": [],
   "source": [
    "w_aab.thin_dumps()"
   ]
  },
  {
   "cell_type": "code",
   "execution_count": null,
   "metadata": {},
   "outputs": [],
   "source": [
    "w_aab.thin_plots()"
   ]
  },
  {
   "cell_type": "code",
   "execution_count": null,
   "metadata": {},
   "outputs": [],
   "source": [
    "plot_graph(output_folder)"
   ]
  },
  {
   "cell_type": "code",
   "execution_count": null,
   "metadata": {},
   "outputs": [],
   "source": [
    "w_aab.thin_dumps_obj(w_aab.terminal_materials['AAA04']['B']['VAM'])"
   ]
  },
  {
   "cell_type": "code",
   "execution_count": null,
   "metadata": {},
   "outputs": [],
   "source": [
    "aab_tree_paths = w_aab.make_tree(Folder, Path(w_aab.root))\n",
    "for p in aab_tree_paths:\n",
    "    print(p.displayable())"
   ]
  },
  {
   "cell_type": "code",
   "execution_count": null,
   "metadata": {},
   "outputs": [],
   "source": [
    "iteration_count = 1\n",
    "iteration = \"AAA\"\n",
    "source_folder = \"../data/\"\n",
    "output_folder = \"data/\"\n",
    "sample_data_folder = \"../Sample Data/Iteration{}_{}\".format(iteration_count, iteration)\n",
    "path = os.path.join(source_folder, iteration)\n",
    "w_aaa = TAMUWorkflow(path, output_folder=output_folder, iteration=iteration, sample_data_folder=sample_data_folder)"
   ]
  },
  {
   "cell_type": "code",
   "execution_count": null,
   "metadata": {},
   "outputs": [],
   "source": [
    "aaa_tree_paths = w_aaa.make_tree(Folder, Path(w_aaa.root))\n",
    "for p in aaa_tree_paths:\n",
    "    print(p.displayable())"
   ]
  },
  {
   "cell_type": "code",
   "execution_count": null,
   "metadata": {},
   "outputs": [],
   "source": [
    "iteration_count = 3\n",
    "iteration = \"AAC\"\n",
    "source_folder = \"../data/\"\n",
    "output_folder = \"data/\"\n",
    "sample_data_folder = \"../Sample Data/Iteration{}_{}\".format(iteration_count, iteration)\n",
    "path = os.path.join(source_folder, iteration)\n",
    "w_aac = TAMUWorkflow(path, output_folder=output_folder, iteration=iteration, sample_data_folder=sample_data_folder)"
   ]
  },
  {
   "cell_type": "code",
   "execution_count": null,
   "metadata": {},
   "outputs": [],
   "source": [
    "aac_tree_paths = w_aac.make_tree(Folder, Path(w_aac.root))\n",
    "for p in aac_tree_paths:\n",
    "    print(p.displayable())"
   ]
  }
 ],
 "metadata": {
  "kernelspec": {
   "display_name": "birdshot",
   "language": "python",
   "name": "python3"
  },
  "language_info": {
   "codemirror_mode": {
    "name": "ipython",
    "version": 3
   },
   "file_extension": ".py",
   "mimetype": "text/x-python",
   "name": "python",
   "nbconvert_exporter": "python",
   "pygments_lexer": "ipython3",
   "version": "3.9.16"
  },
  "orig_nbformat": 4,
  "vscode": {
   "interpreter": {
    "hash": "c93de424c187b5f45150c4b68957697054d2d10439b831359c08b5dbeaa012b5"
   }
  }
 },
 "nbformat": 4,
 "nbformat_minor": 2
}
