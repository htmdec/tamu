{
 "cells": [
  {
   "cell_type": "code",
   "execution_count": 19,
   "metadata": {},
   "outputs": [
    {
     "name": "stdout",
     "output_type": "stream",
     "text": [
      "The autoreload extension is already loaded. To reload it, use:\n",
      "  %reload_ext autoreload\n"
     ]
    }
   ],
   "source": [
    "# %matplotlib inline\n",
    "%load_ext autoreload\n",
    "%autoreload 2\n",
    "import sys\n",
    "gemd_tools_path = \"/srv/hemi01-j01/gemd_tools\"\n",
    "sys.path.append(gemd_tools_path)\n",
    "from workflow.Folder import Folder\n",
    "from workflow.TAMUWorkflow import TAMUWorkflow\n",
    "from workflow.Workflow import Workflow\n",
    "from utilities.tools import  plot_graph\n",
    "import os\n",
    "from pathlib import Path"
   ]
  },
  {
   "cell_type": "code",
   "execution_count": 20,
   "metadata": {},
   "outputs": [],
   "source": [
    "iteration_count = 2\n",
    "iteration = \"AAB\"\n",
    "source_folder = \"../data/\"\n",
    "output_folder = \"data/{}\".format(iteration)\n",
    "sample_data_folder = \"../Sample Data/Iteration{}_{}\".format(iteration_count, iteration)\n",
    "path = os.path.join(source_folder, iteration)\n",
    "w_aab = TAMUWorkflow(path, output_folder=output_folder, iteration=iteration, sample_data_folder=sample_data_folder)"
   ]
  },
  {
   "cell_type": "code",
   "execution_count": 21,
   "metadata": {},
   "outputs": [
    {
     "name": "stdout",
     "output_type": "stream",
     "text": [
      "AAB01 A DED\n",
      "data/AAB01\n",
      "data/AAB01/DED\n",
      "data/AAB01/DED/A\n",
      "AAB02 A DED\n",
      "data/AAB02\n",
      "data/AAB02/DED\n",
      "data/AAB02/DED/A\n",
      "AAB03 A DED\n",
      "data/AAB03\n",
      "data/AAB03/DED\n",
      "data/AAB03/DED/A\n",
      "AAB04 A DED\n",
      "data/AAB04\n",
      "data/AAB04/DED\n",
      "data/AAB04/DED/A\n",
      "AAB05 A DED\n",
      "data/AAB05\n",
      "data/AAB05/DED\n",
      "data/AAB05/DED/A\n",
      "AAB06 A DED\n",
      "data/AAB06\n",
      "data/AAB06/DED\n",
      "data/AAB06/DED/A\n",
      "AAB07 A DED\n",
      "data/AAB07\n",
      "data/AAB07/DED\n",
      "data/AAB07/DED/A\n",
      "AAB08 A DED\n",
      "data/AAB08\n",
      "data/AAB08/DED\n",
      "data/AAB08/DED/A\n",
      "AAB09 A DED\n",
      "data/AAB09\n",
      "data/AAB09/DED\n",
      "data/AAB09/DED/A\n",
      "AAB10 A DED\n",
      "data/AAB10\n",
      "data/AAB10/DED\n",
      "data/AAB10/DED/A\n",
      "AAB11 A DED\n",
      "data/AAB11\n",
      "data/AAB11/DED\n",
      "data/AAB11/DED/A\n",
      "AAB12 A DED\n",
      "data/AAB12\n",
      "data/AAB12/DED\n",
      "data/AAB12/DED/A\n",
      "AAB13 A DED\n",
      "data/AAB13\n",
      "data/AAB13/DED\n",
      "data/AAB13/DED/A\n",
      "AAB14 A DED\n",
      "data/AAB14\n",
      "data/AAB14/DED\n",
      "data/AAB14/DED/A\n",
      "AAB15 A DED\n",
      "data/AAB15\n",
      "data/AAB15/DED\n",
      "data/AAB15/DED/A\n",
      "AAB16 A DED\n",
      "data/AAB16\n",
      "data/AAB16/DED\n",
      "data/AAB16/DED/A\n",
      "AAB01 A VAM\n",
      "data/AAB01\n",
      "data/AAB01/VAM\n",
      "data/AAB01/VAM/A\n",
      "AAB02 A VAM\n",
      "data/AAB02\n",
      "data/AAB02/VAM\n",
      "data/AAB02/VAM/A\n",
      "AAB03 A VAM\n",
      "data/AAB03\n",
      "data/AAB03/VAM\n",
      "data/AAB03/VAM/A\n",
      "AAB04 A VAM\n",
      "data/AAB04\n",
      "data/AAB04/VAM\n",
      "data/AAB04/VAM/A\n",
      "AAB05 A VAM\n",
      "data/AAB05\n",
      "data/AAB05/VAM\n",
      "data/AAB05/VAM/A\n",
      "AAB06 A VAM\n",
      "data/AAB06\n",
      "data/AAB06/VAM\n",
      "data/AAB06/VAM/A\n",
      "AAB07 A VAM\n",
      "data/AAB07\n",
      "data/AAB07/VAM\n",
      "data/AAB07/VAM/A\n",
      "AAB08 A VAM\n",
      "data/AAB08\n",
      "data/AAB08/VAM\n",
      "data/AAB08/VAM/A\n",
      "AAB09 A VAM\n",
      "data/AAB09\n",
      "data/AAB09/VAM\n",
      "data/AAB09/VAM/A\n",
      "AAB10 A VAM\n",
      "data/AAB10\n",
      "data/AAB10/VAM\n",
      "data/AAB10/VAM/A\n",
      "AAB11 A VAM\n",
      "data/AAB11\n",
      "data/AAB11/VAM\n",
      "data/AAB11/VAM/A\n",
      "AAB12 A VAM\n",
      "data/AAB12\n",
      "data/AAB12/VAM\n",
      "data/AAB12/VAM/A\n",
      "AAB13 A VAM\n",
      "data/AAB13\n",
      "data/AAB13/VAM\n",
      "data/AAB13/VAM/A\n",
      "AAB14 A VAM\n",
      "data/AAB14\n",
      "data/AAB14/VAM\n",
      "data/AAB14/VAM/A\n",
      "AAB15 A VAM\n",
      "data/AAB15\n",
      "data/AAB15/VAM\n",
      "data/AAB15/VAM/A\n",
      "AAB16 A VAM\n",
      "data/AAB16\n",
      "data/AAB16/VAM\n",
      "data/AAB16/VAM/A\n"
     ]
    }
   ],
   "source": [
    "w_aab.build_model()"
   ]
  },
  {
   "cell_type": "code",
   "execution_count": 22,
   "metadata": {},
   "outputs": [
    {
     "ename": "FileNotFoundError",
     "evalue": "[Errno 2] No such file or directory: 'data/AAB01/DED/A/thin_jsons/ProcessSpec_Aggregate summary sheet_3f0f4a31-6bb5-49a4-8830-3fa13ca629fc'",
     "output_type": "error",
     "traceback": [
      "\u001b[0;31m---------------------------------------------------------------------------\u001b[0m",
      "\u001b[0;31mFileNotFoundError\u001b[0m                         Traceback (most recent call last)",
      "Cell \u001b[0;32mIn[22], line 1\u001b[0m\n\u001b[0;32m----> 1\u001b[0m w_aab\u001b[39m.\u001b[39;49mthin_dumps()\n",
      "File \u001b[0;32m/srv/hemi01-j01/gemd_tools/workflow/TAMUWorkflow.py:435\u001b[0m, in \u001b[0;36mTAMUWorkflow.thin_dumps\u001b[0;34m(self)\u001b[0m\n\u001b[1;32m    433\u001b[0m destination \u001b[39m=\u001b[39m os\u001b[39m.\u001b[39mpath\u001b[39m.\u001b[39mjoin(destination, \u001b[39m'\u001b[39m\u001b[39mthin_jsons\u001b[39m\u001b[39m'\u001b[39m)\n\u001b[1;32m    434\u001b[0m \u001b[39mfor\u001b[39;00m block_name, block \u001b[39min\u001b[39;00m \u001b[39mself\u001b[39m\u001b[39m.\u001b[39mblocks[composition_id][fabrication_method][batch_id]\u001b[39m.\u001b[39mitems(): \n\u001b[0;32m--> 435\u001b[0m     block\u001b[39m.\u001b[39;49mthin_dumps(\u001b[39mself\u001b[39;49m\u001b[39m.\u001b[39;49mencoder, destination)\n",
      "File \u001b[0;32m/srv/hemi01-j01/gemd_tools/block/Block.py:28\u001b[0m, in \u001b[0;36mBlock.thin_dumps\u001b[0;34m(self, encoder, destination)\u001b[0m\n\u001b[1;32m     26\u001b[0m \u001b[39mfor\u001b[39;00m ingredient \u001b[39min\u001b[39;00m \u001b[39mself\u001b[39m\u001b[39m.\u001b[39mingredients:\n\u001b[1;32m     27\u001b[0m     ingredient\u001b[39m.\u001b[39mthin_dumps(encoder, destination)\n\u001b[0;32m---> 28\u001b[0m \u001b[39mself\u001b[39;49m\u001b[39m.\u001b[39;49mprocess\u001b[39m.\u001b[39;49mthin_dumps(encoder, destination)\n\u001b[1;32m     29\u001b[0m \u001b[39mself\u001b[39m\u001b[39m.\u001b[39mmaterial\u001b[39m.\u001b[39mthin_dumps(encoder, destination)\n\u001b[1;32m     30\u001b[0m \u001b[39mfor\u001b[39;00m measurement \u001b[39min\u001b[39;00m \u001b[39mself\u001b[39m\u001b[39m.\u001b[39mmeasurements:\n",
      "File \u001b[0;32m/srv/hemi01-j01/gemd_tools/entity/base/base_node.py:354\u001b[0m, in \u001b[0;36mBaseNode.thin_dumps\u001b[0;34m(self, encoder, destination)\u001b[0m\n\u001b[1;32m    352\u001b[0m encoder\u001b[39m.\u001b[39mthin_dumps(obj,indent\u001b[39m=\u001b[39m\u001b[39m3\u001b[39m) \u001b[39m# trigger uids assignment\u001b[39;00m\n\u001b[1;32m    353\u001b[0m fn \u001b[39m=\u001b[39m \u001b[39m'\u001b[39m\u001b[39m_\u001b[39m\u001b[39m'\u001b[39m\u001b[39m.\u001b[39mjoin([obj\u001b[39m.\u001b[39m\u001b[39m__class__\u001b[39m\u001b[39m.\u001b[39m\u001b[39m__name__\u001b[39m, obj\u001b[39m.\u001b[39mname,obj\u001b[39m.\u001b[39muids[\u001b[39m'\u001b[39m\u001b[39mauto\u001b[39m\u001b[39m'\u001b[39m]])\n\u001b[0;32m--> 354\u001b[0m \u001b[39mwith\u001b[39;00m \u001b[39mopen\u001b[39;49m(os\u001b[39m.\u001b[39;49mpath\u001b[39m.\u001b[39;49mjoin(destination, fn),\u001b[39m'\u001b[39;49m\u001b[39mw\u001b[39;49m\u001b[39m'\u001b[39;49m) \u001b[39mas\u001b[39;00m fp:\n\u001b[1;32m    355\u001b[0m     fp\u001b[39m.\u001b[39mwrite(encoder\u001b[39m.\u001b[39mthin_dumps(obj,indent\u001b[39m=\u001b[39m\u001b[39m3\u001b[39m))\n",
      "\u001b[0;31mFileNotFoundError\u001b[0m: [Errno 2] No such file or directory: 'data/AAB01/DED/A/thin_jsons/ProcessSpec_Aggregate summary sheet_3f0f4a31-6bb5-49a4-8830-3fa13ca629fc'"
     ]
    }
   ],
   "source": [
    "w_aab.thin_dumps()"
   ]
  },
  {
   "cell_type": "code",
   "execution_count": null,
   "metadata": {},
   "outputs": [],
   "source": [
    "w_aab.thin_plots()"
   ]
  },
  {
   "cell_type": "code",
   "execution_count": null,
   "metadata": {},
   "outputs": [],
   "source": [
    "# plot_graph(output_folder)"
   ]
  },
  {
   "cell_type": "code",
   "execution_count": null,
   "metadata": {},
   "outputs": [],
   "source": [
    "# w_aab.thin_dumps_obj(w_aab.terminal_materials['AAA04']['B']['VAM'])"
   ]
  },
  {
   "cell_type": "code",
   "execution_count": null,
   "metadata": {},
   "outputs": [],
   "source": [
    "# aab_tree_paths = w_aab.make_tree(Folder, Path(w_aab.root))\n",
    "# for p in aab_tree_paths:\n",
    "#     print(p.displayable())"
   ]
  },
  {
   "cell_type": "code",
   "execution_count": null,
   "metadata": {},
   "outputs": [],
   "source": [
    "# iteration_count = 1\n",
    "# iteration = \"AAA\"\n",
    "# source_folder = \"../data/\"\n",
    "# output_folder = \"data/\"\n",
    "# sample_data_folder = \"../Sample Data/Iteration{}_{}\".format(iteration_count, iteration)\n",
    "# path = os.path.join(source_folder, iteration)\n",
    "# w_aaa = TAMUWorkflow(path, output_folder=output_folder, iteration=iteration, sample_data_folder=sample_data_folder)"
   ]
  },
  {
   "cell_type": "code",
   "execution_count": null,
   "metadata": {},
   "outputs": [],
   "source": [
    "# aaa_tree_paths = w_aaa.make_tree(Folder, Path(w_aaa.root))\n",
    "# for p in aaa_tree_paths:\n",
    "#     print(p.displayable())"
   ]
  },
  {
   "cell_type": "code",
   "execution_count": null,
   "metadata": {},
   "outputs": [],
   "source": [
    "# iteration_count = 3\n",
    "# iteration = \"AAC\"\n",
    "# source_folder = \"../data/\"\n",
    "# output_folder = \"data/\"\n",
    "# sample_data_folder = \"../Sample Data/Iteration{}_{}\".format(iteration_count, iteration)\n",
    "# path = os.path.join(source_folder, iteration)\n",
    "# w_aac = TAMUWorkflow(path, output_folder=output_folder, iteration=iteration, sample_data_folder=sample_data_folder)"
   ]
  },
  {
   "cell_type": "code",
   "execution_count": null,
   "metadata": {},
   "outputs": [],
   "source": [
    "# aac_tree_paths = w_aac.make_tree(Folder, Path(w_aac.root))\n",
    "# for p in aac_tree_paths:\n",
    "#     print(p.displayable())"
   ]
  }
 ],
 "metadata": {
  "kernelspec": {
   "display_name": "birdshot",
   "language": "python",
   "name": "python3"
  },
  "language_info": {
   "codemirror_mode": {
    "name": "ipython",
    "version": 3
   },
   "file_extension": ".py",
   "mimetype": "text/x-python",
   "name": "python",
   "nbconvert_exporter": "python",
   "pygments_lexer": "ipython3",
   "version": "3.9.16"
  },
  "orig_nbformat": 4,
  "vscode": {
   "interpreter": {
    "hash": "c93de424c187b5f45150c4b68957697054d2d10439b831359c08b5dbeaa012b5"
   }
  }
 },
 "nbformat": 4,
 "nbformat_minor": 2
}
