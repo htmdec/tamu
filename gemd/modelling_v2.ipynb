{
 "cells": [
  {
   "cell_type": "code",
   "execution_count": 108,
   "metadata": {},
   "outputs": [
    {
     "name": "stdout",
     "output_type": "stream",
     "text": [
      "The autoreload extension is already loaded. To reload it, use:\n",
      "  %reload_ext autoreload\n"
     ]
    }
   ],
   "source": [
    "# %matplotlib inline\n",
    "%load_ext autoreload\n",
    "%autoreload 2\n",
    "import sys\n",
    "gemd_tools_path = \"/srv/hemi01-j01/gemd_tools\"\n",
    "sys.path.append(gemd_tools_path)\n",
    "from workflow.Folder import Folder\n",
    "from workflow.TAMUWorkflow import TAMUWorkflow\n",
    "from workflow.Workflow import Workflow\n",
    "from utilities.tools import  plot_graph\n",
    "import os\n",
    "from pathlib import Path"
   ]
  },
  {
   "cell_type": "code",
   "execution_count": 109,
   "metadata": {},
   "outputs": [],
   "source": [
    "iteration_count = 2\n",
    "iteration = \"AAB\"\n",
    "source_folder = \"../data/\"\n",
    "output_folder = \"data/{}\".format(iteration)\n",
    "sample_data_folder = \"../Sample Data/Iteration{}_{}\".format(iteration_count, iteration)\n",
    "path = os.path.join(source_folder, iteration)\n",
    "w_aab = TAMUWorkflow(path, output_folder=output_folder, iteration=iteration, sample_data_folder=sample_data_folder)"
   ]
  },
  {
   "cell_type": "code",
   "execution_count": 110,
   "metadata": {},
   "outputs": [],
   "source": [
    "w_aab.build_model()"
   ]
  },
  {
   "cell_type": "code",
   "execution_count": 111,
   "metadata": {},
   "outputs": [],
   "source": [
    "w_aab.thin_dumps()"
   ]
  },
  {
   "cell_type": "code",
   "execution_count": 112,
   "metadata": {},
   "outputs": [
    {
     "name": "stdout",
     "output_type": "stream",
     "text": [
      "cycles in the graph: []\n",
      "nb of disregarded elements (i.e., templates/specs): 0/94\n",
      "cycles in the graph: []\n",
      "nb of disregarded elements (i.e., templates/specs): 0/10\n",
      "cycles in the graph: []\n",
      "nb of disregarded elements (i.e., templates/specs): 0/10\n",
      "cycles in the graph: []\n",
      "nb of disregarded elements (i.e., templates/specs): 0/94\n",
      "cycles in the graph: []\n",
      "nb of disregarded elements (i.e., templates/specs): 0/94\n",
      "cycles in the graph: []\n",
      "nb of disregarded elements (i.e., templates/specs): 0/10\n",
      "cycles in the graph: []\n",
      "nb of disregarded elements (i.e., templates/specs): 0/94\n",
      "cycles in the graph: []\n",
      "nb of disregarded elements (i.e., templates/specs): 0/10\n",
      "cycles in the graph: []\n",
      "nb of disregarded elements (i.e., templates/specs): 0/10\n",
      "cycles in the graph: []\n",
      "nb of disregarded elements (i.e., templates/specs): 0/94\n",
      "cycles in the graph: []\n",
      "nb of disregarded elements (i.e., templates/specs): 0/10\n",
      "cycles in the graph: []\n",
      "nb of disregarded elements (i.e., templates/specs): 0/94\n",
      "cycles in the graph: []\n",
      "nb of disregarded elements (i.e., templates/specs): 0/10\n",
      "cycles in the graph: []\n",
      "nb of disregarded elements (i.e., templates/specs): 0/94\n",
      "cycles in the graph: []\n",
      "nb of disregarded elements (i.e., templates/specs): 0/94\n",
      "cycles in the graph: []\n",
      "nb of disregarded elements (i.e., templates/specs): 0/10\n",
      "cycles in the graph: []\n",
      "nb of disregarded elements (i.e., templates/specs): 0/94\n",
      "cycles in the graph: []\n",
      "nb of disregarded elements (i.e., templates/specs): 0/10\n",
      "cycles in the graph: []\n",
      "nb of disregarded elements (i.e., templates/specs): 0/10\n",
      "cycles in the graph: []\n",
      "nb of disregarded elements (i.e., templates/specs): 0/94\n",
      "cycles in the graph: []\n",
      "nb of disregarded elements (i.e., templates/specs): 0/94\n",
      "cycles in the graph: []\n",
      "nb of disregarded elements (i.e., templates/specs): 0/10\n",
      "cycles in the graph: []\n",
      "nb of disregarded elements (i.e., templates/specs): 0/10\n",
      "cycles in the graph: []\n",
      "nb of disregarded elements (i.e., templates/specs): 0/94\n",
      "cycles in the graph: []\n",
      "nb of disregarded elements (i.e., templates/specs): 0/94\n",
      "cycles in the graph: []\n",
      "nb of disregarded elements (i.e., templates/specs): 0/10\n",
      "cycles in the graph: []\n",
      "nb of disregarded elements (i.e., templates/specs): 0/10\n",
      "cycles in the graph: []\n",
      "nb of disregarded elements (i.e., templates/specs): 0/94\n",
      "cycles in the graph: []\n",
      "nb of disregarded elements (i.e., templates/specs): 0/94\n",
      "cycles in the graph: []\n",
      "nb of disregarded elements (i.e., templates/specs): 0/10\n",
      "cycles in the graph: []\n",
      "nb of disregarded elements (i.e., templates/specs): 0/94\n",
      "cycles in the graph: []\n",
      "nb of disregarded elements (i.e., templates/specs): 0/10\n"
     ]
    }
   ],
   "source": [
    "w_aab.thin_plots()"
   ]
  },
  {
   "cell_type": "code",
   "execution_count": 113,
   "metadata": {},
   "outputs": [
    {
     "name": "stderr",
     "output_type": "stream",
     "text": [
      "/srv/hemi01-j01/anaconda3/envs/birdshot/lib/python3.9/site-packages/pygraphviz/agraph.py:1405: RuntimeWarning: neato: graph is too large for cairo-renderer bitmaps. Scaling by 0.38633 to fit\n",
      "\n",
      "  warnings.warn(b\"\".join(errors).decode(self.encoding), RuntimeWarning)\n"
     ]
    },
    {
     "name": "stdout",
     "output_type": "stream",
     "text": [
      "cycles in the graph: []\n",
      "nb of disregarded elements (i.e., templates/specs): 0/1664\n"
     ]
    },
    {
     "name": "stderr",
     "output_type": "stream",
     "text": [
      "/srv/hemi01-j01/anaconda3/envs/birdshot/lib/python3.9/site-packages/pygraphviz/agraph.py:1405: RuntimeWarning: neato: graph is too large for cairo-renderer bitmaps. Scaling by 0.470283 to fit\n",
      "\n",
      "  warnings.warn(b\"\".join(errors).decode(self.encoding), RuntimeWarning)\n"
     ]
    },
    {
     "data": {
      "text/plain": [
       "('data/AAB/run_uid_graph.png', 'data/AAB/run_name_graph.png')"
      ]
     },
     "execution_count": 113,
     "metadata": {},
     "output_type": "execute_result"
    }
   ],
   "source": [
    "plot_graph(output_folder)"
   ]
  },
  {
   "cell_type": "code",
   "execution_count": 114,
   "metadata": {},
   "outputs": [
    {
     "ename": "KeyError",
     "evalue": "'AAA04'",
     "output_type": "error",
     "traceback": [
      "\u001b[0;31m---------------------------------------------------------------------------\u001b[0m",
      "\u001b[0;31mKeyError\u001b[0m                                  Traceback (most recent call last)",
      "Cell \u001b[0;32mIn[114], line 1\u001b[0m\n\u001b[0;32m----> 1\u001b[0m w_aab\u001b[39m.\u001b[39mthin_dumps_obj(w_aab\u001b[39m.\u001b[39;49mterminal_materials[\u001b[39m'\u001b[39;49m\u001b[39mAAA04\u001b[39;49m\u001b[39m'\u001b[39;49m][\u001b[39m'\u001b[39m\u001b[39mB\u001b[39m\u001b[39m'\u001b[39m][\u001b[39m'\u001b[39m\u001b[39mVAM\u001b[39m\u001b[39m'\u001b[39m])\n",
      "\u001b[0;31mKeyError\u001b[0m: 'AAA04'"
     ]
    }
   ],
   "source": [
    "w_aab.thin_dumps_obj(w_aab.terminal_materials['AAA04']['B']['VAM'])"
   ]
  },
  {
   "cell_type": "code",
   "execution_count": null,
   "metadata": {},
   "outputs": [],
   "source": [
    "# aab_tree_paths = w_aab.make_tree(Folder, Path(w_aab.root))\n",
    "# for p in aab_tree_paths:\n",
    "#     print(p.displayable())"
   ]
  },
  {
   "cell_type": "code",
   "execution_count": null,
   "metadata": {},
   "outputs": [],
   "source": [
    "# iteration_count = 1\n",
    "# iteration = \"AAA\"\n",
    "# source_folder = \"../data/\"\n",
    "# output_folder = \"data/\"\n",
    "# sample_data_folder = \"../Sample Data/Iteration{}_{}\".format(iteration_count, iteration)\n",
    "# path = os.path.join(source_folder, iteration)\n",
    "# w_aaa = TAMUWorkflow(path, output_folder=output_folder, iteration=iteration, sample_data_folder=sample_data_folder)"
   ]
  },
  {
   "cell_type": "code",
   "execution_count": null,
   "metadata": {},
   "outputs": [],
   "source": [
    "# aaa_tree_paths = w_aaa.make_tree(Folder, Path(w_aaa.root))\n",
    "# for p in aaa_tree_paths:\n",
    "#     print(p.displayable())"
   ]
  },
  {
   "cell_type": "code",
   "execution_count": null,
   "metadata": {},
   "outputs": [],
   "source": [
    "# iteration_count = 3\n",
    "# iteration = \"AAC\"\n",
    "# source_folder = \"../data/\"\n",
    "# output_folder = \"data/\"\n",
    "# sample_data_folder = \"../Sample Data/Iteration{}_{}\".format(iteration_count, iteration)\n",
    "# path = os.path.join(source_folder, iteration)\n",
    "# w_aac = TAMUWorkflow(path, output_folder=output_folder, iteration=iteration, sample_data_folder=sample_data_folder)"
   ]
  },
  {
   "cell_type": "code",
   "execution_count": null,
   "metadata": {},
   "outputs": [],
   "source": [
    "# aac_tree_paths = w_aac.make_tree(Folder, Path(w_aac.root))\n",
    "# for p in aac_tree_paths:\n",
    "#     print(p.displayable())"
   ]
  }
 ],
 "metadata": {
  "kernelspec": {
   "display_name": "birdshot",
   "language": "python",
   "name": "python3"
  },
  "language_info": {
   "codemirror_mode": {
    "name": "ipython",
    "version": 3
   },
   "file_extension": ".py",
   "mimetype": "text/x-python",
   "name": "python",
   "nbconvert_exporter": "python",
   "pygments_lexer": "ipython3",
   "version": "3.9.16"
  },
  "orig_nbformat": 4,
  "vscode": {
   "interpreter": {
    "hash": "c93de424c187b5f45150c4b68957697054d2d10439b831359c08b5dbeaa012b5"
   }
  }
 },
 "nbformat": 4,
 "nbformat_minor": 2
}
